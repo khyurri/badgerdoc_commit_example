{
 "cells": [
  {
   "cell_type": "code",
   "execution_count": 22,
   "metadata": {},
   "outputs": [],
   "source": [
    "import requests\n",
    "import json\n",
    "import random\n",
    "\n",
    "\n",
    "BADGERDOC_HOST = \"http://demo.badgerdoc.com:8080\"\n",
    "BADGERDOC_TENANT = \"badgerdoc\"\n",
    "BADGERDOC_JOB_ID = 85\n",
    "BADGERDOC_FILE_ID = 361\n",
    "EXTERNAL_PIPELINE_ID = 0\n",
    "\n",
    "KEYCLOAK_TOKEN_URI = (\n",
    "    \"http://demo.badgerdoc.com:8082/auth/realms/master/protocol/openid-connect/token/\"\n",
    ")\n",
    "KEYCLOAK_SYSTEM_USER_CLIENT = \"badgerdoc-internal\"\n",
    "KEYCLOAK_SYSTEM_USER_SECRET = \"***\"\n"
   ]
  },
  {
   "cell_type": "code",
   "execution_count": 46,
   "metadata": {},
   "outputs": [],
   "source": [
    "def gpt_to_badgerdoc_annotation(gpt_key, gpt_value):\n",
    "    default_str = \"unknown\"\n",
    "    if gpt_key == \"patient_information\":\n",
    "        age = gpt_value.get(\"age\", default_str)\n",
    "        age_unit = gpt_value.get(\"age_unit\", \"age_unit\")\n",
    "        gender = gpt_value.get(\"gender\", default_str)\n",
    "        ethnic_group = gpt_value.get(\"ethnic_group\", default_str)\n",
    "        yield (\n",
    "            gpt_key,\n",
    "            f\"Age: {age} {age_unit}\\nGender: {gender}\\nEthnic group: {ethnic_group}\",\n",
    "        )\n",
    "    elif gpt_key == \"patient_examination\":\n",
    "        for examination in gpt_value:\n",
    "            exam_text = examination.get(\"exam_text\", default_str)\n",
    "            yield (gpt_key, f\"{exam_text}\")\n",
    "\n",
    "\n",
    "def extract_objs(gpt):\n",
    "    bd_objs = []\n",
    "    for needle in gpt:\n",
    "        for gpt_key, gpt_value in needle.items():\n",
    "            for category, bd_value in gpt_to_badgerdoc_annotation(gpt_key, gpt_value):\n",
    "                if category:\n",
    "                    bd_objs.append(\n",
    "                        {\n",
    "                            \"id\": random.choice(range(0, 0xFFFFFF)),\n",
    "                            \"category\": category,\n",
    "                            \"type\": \"document\",\n",
    "                            \"text\": bd_value,\n",
    "                        }\n",
    "                    )\n",
    "\n",
    "    return bd_objs\n",
    "\n",
    "\n",
    "def get_service_token():\n",
    "    \"\"\"Creates Pipelines client token\"\"\"\n",
    "    url = KEYCLOAK_TOKEN_URI\n",
    "    headers = {\"Content-Type\": \"application/x-www-form-urlencoded\"}\n",
    "    payload = {\n",
    "        \"client_id\": KEYCLOAK_SYSTEM_USER_CLIENT,\n",
    "        \"client_secret\": KEYCLOAK_SYSTEM_USER_SECRET,\n",
    "        \"grant_type\": \"client_credentials\",\n",
    "    }\n",
    "    response = requests.request(method=\"POST\", url=url, data=payload, headers=headers)\n",
    "    response.raise_for_status()\n",
    "    try:\n",
    "        return response.json()[\"access_token\"]\n",
    "    except KeyError:\n",
    "        print(f\"{response=}, {response.json()=}\")\n",
    "    return None\n",
    "\n",
    "\n",
    "def commit_annotation(token, body):\n",
    "    annotation_url = (\n",
    "        f\"{BADGERDOC_HOST}/annotation/annotation/{BADGERDOC_JOB_ID}/{BADGERDOC_FILE_ID}\"\n",
    "    )\n",
    "    headers = {\"X-Current-Tenant\": BADGERDOC_TENANT, \"Authorization\": f\"Bearer {token}\"}\n",
    "    return requests.post(url=annotation_url, headers=headers, json=body)\n",
    "\n",
    "\n",
    "def start_job(token):\n",
    "    start_job_url = f\"{BADGERDOC_HOST}/annotation/jobs/{BADGERDOC_JOB_ID}/start\"\n",
    "    headers = {\"X-Current-Tenant\": BADGERDOC_TENANT, \"Authorization\": f\"Bearer {token}\"}\n",
    "    response = requests.post(url=start_job_url, headers=headers)\n",
    "    response.raise_for_status()\n",
    "    return response"
   ]
  },
  {
   "cell_type": "markdown",
   "metadata": {},
   "source": [
    "# Form badgerdoc commit body from `gpt_output_example.json` file"
   ]
  },
  {
   "cell_type": "code",
   "execution_count": 47,
   "metadata": {},
   "outputs": [
    {
     "name": "stdout",
     "output_type": "stream",
     "text": [
      "{'base_revision': None, 'user': None, 'pipeline': 0, 'pages': [{'page_num': 1, 'size': {'width': 0, 'height': 0}, 'objs': [{'id': 15322049, 'category': 'patient_information', 'type': 'document', 'text': 'Age: 75 year\\nGender: female\\nEthnic group: Japanese'}, {'id': 2831351, 'category': 'patient_examination', 'type': 'document', 'text': 'A 75-year-old Japanese female with a history of diabetes mellitus, smoking, and PAD, underwent lower-extremity peripheral vascular intervention using Fowler’s position and the Terumo R2P system for treatment of right SFA chronic total occlusion. Post-procedure, her ABI improved to 0.78 in the right leg, and she was discharged 1 week after PVI. At 6 months post-PVI, she was free from pain in her right lower leg with an ABI of 0.72.'}, {'id': 7812278, 'category': 'patient_information', 'type': 'document', 'text': 'Age: 74 year\\nGender: male\\nEthnic group: Japanese'}, {'id': 2602798, 'category': 'patient_examination', 'type': 'document', 'text': 'A 74-year-old Japanese male with a history of hypertension, dyslipidemia, smoking, and PAD, underwent lower-extremity peripheral vascular intervention using Fowler’s position and the Terumo R2P system for treatment of CTO lesions in both SFAs. Post-procedure, his ABI improved to 1.00 in the right leg and 1.01 in the left leg. He was discharged 2 days after PVI. At 12 months post-PVI, he was free from claudication with ABIs of 0.95 (right) and 0.98 (left).'}]}]}\n"
     ]
    }
   ],
   "source": [
    "with open(\"gpt_output_example.json\", \"r\") as output_file:\n",
    "    output_gpt = json.load(output_file)\n",
    "\n",
    "badgerdoc_commit_body = {\n",
    "    \"base_revision\": None,\n",
    "    \"user\": None,\n",
    "    \"pipeline\": EXTERNAL_PIPELINE_ID,\n",
    "    \"pages\": [\n",
    "        {\n",
    "            \"page_num\": 1,\n",
    "            \"size\": {\n",
    "                \"width\": 0,\n",
    "                \"height\": 0,\n",
    "            },\n",
    "            \"objs\": extract_objs(output_gpt)\n",
    "        }\n",
    "    ],\n",
    "}\n",
    "print(badgerdoc_commit_body)"
   ]
  },
  {
   "cell_type": "markdown",
   "metadata": {},
   "source": [
    "# Commit annotation and start job"
   ]
  },
  {
   "cell_type": "code",
   "execution_count": 48,
   "metadata": {},
   "outputs": [
    {
     "name": "stdout",
     "output_type": "stream",
     "text": [
      "commit_response=<Response [201]>, commit_response.json()={'revision': '8af131d7f486c3f9794b20da114ba886ee6de673', 'user': None, 'pipeline': 0, 'date': '2024-05-23T23:06:56.584331', 'file_id': 361, 'job_id': 85, 'pages': {'1': 'f38e066af0344bf21b25d936575c0e7e2bdd15c3'}, 'validated': [], 'failed_validation_pages': [], 'tenant': 'badgerdoc', 'task_id': None, 'similar_revisions': None, 'categories': [], 'links_json': None}\n",
      "start_job_response=<Response [200]>, start_job_response.json()=[{'id': 194, 'status': 'Ready', 'file_id': 361, 'pages': [1, 2, 3, 4, 5, 6], 'job_id': 85, 'user_id': '0dc326e4-b190-4881-8d05-12359052abbf', 'is_validation': True, 'deadline': None}]\n"
     ]
    }
   ],
   "source": [
    "token = get_service_token()\n",
    "if token is not None:\n",
    "    commit_response = commit_annotation(token, badgerdoc_commit_body)\n",
    "    print(f\"{commit_response=}, {commit_response.json()=}\")\n",
    "    start_job_response = start_job(token)\n",
    "    print(f\"{start_job_response=}, {start_job_response.json()=}\")"
   ]
  }
 ],
 "metadata": {
  "kernelspec": {
   "display_name": "venv",
   "language": "python",
   "name": "python3"
  },
  "language_info": {
   "codemirror_mode": {
    "name": "ipython",
    "version": 3
   },
   "file_extension": ".py",
   "mimetype": "text/x-python",
   "name": "python",
   "nbconvert_exporter": "python",
   "pygments_lexer": "ipython3",
   "version": "3.12.0"
  }
 },
 "nbformat": 4,
 "nbformat_minor": 2
}
